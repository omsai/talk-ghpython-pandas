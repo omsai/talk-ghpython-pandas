{
 "metadata": {
  "name": "",
  "signature": "sha256:218e01dcb3cb893c6adec36dc71218e95fd3bb6b3b9ce33e742f5be81f76b017"
 },
 "nbformat": 3,
 "nbformat_minor": 0,
 "worksheets": [
  {
   "cells": [
    {
     "cell_type": "heading",
     "level": 1,
     "metadata": {
      "slideshow": {
       "slide_type": "slide"
      }
     },
     "source": [
      "Data analysis using Python *pandas* library"
     ]
    },
    {
     "cell_type": "heading",
     "level": 3,
     "metadata": {
      "slideshow": {
       "slide_type": "-"
      }
     },
     "source": [
      "by Pariksheet Nanda"
     ]
    },
    {
     "cell_type": "markdown",
     "metadata": {
      "slideshow": {
       "slide_type": "-"
      }
     },
     "source": [
      "presented to the [Greater Hartford Python meetup](http://www.meetup.com/The-Greater-Hartford-Python-Group/) group."
     ]
    },
    {
     "cell_type": "heading",
     "level": 2,
     "metadata": {
      "slideshow": {
       "slide_type": "skip"
      }
     },
     "source": [
      "Abstract:"
     ]
    },
    {
     "cell_type": "markdown",
     "metadata": {
      "slideshow": {
       "slide_type": "skip"
      }
     },
     "source": [
      "This article discusses the workflow for tackling text, datetime and numerical analysis problems using the Python *pandas* library. Manipulating these 3 types of data is common in analysis. *Pandas* has several unique selling points; notably: *a)* allowing SQL-style joins, *b)* greatly improving date-time handling over numpy, and *c)* tagging or labeling data. Not only does *pandas* integrate the Python libraries *numpy*, *re* (regular expressions), and *datetime*, it also allows rapid visualization like R, and interfaces with various data stream and file formats.\n",
      "\n",
      "However, using *pandas* for even mildly challenging numerical analysis problems requires a working knowledge of *numpy*. Therefore, several examples of using *numpy* library functions will be discussed to introduce neophytes to numerical computing themes of vectoriztion and common function idioms."
     ]
    },
    {
     "cell_type": "heading",
     "level": 1,
     "metadata": {
      "slideshow": {
       "slide_type": "subslide"
      }
     },
     "source": [
      "Overview"
     ]
    },
    {
     "cell_type": "markdown",
     "metadata": {
      "slideshow": {
       "slide_type": "-"
      }
     },
     "source": [
      "1. Use cases (5 minutes)\n",
      "2. Example (10 minutes)\n",
      "3. Best practices (10 minutes)\n",
      "4. Further reading (2 minutes)"
     ]
    },
    {
     "cell_type": "heading",
     "level": 1,
     "metadata": {
      "slideshow": {
       "slide_type": "slide"
      }
     },
     "source": [
      "Use Cases"
     ]
    },
    {
     "cell_type": "heading",
     "level": 2,
     "metadata": {
      "slideshow": {
       "slide_type": "subslide"
      }
     },
     "source": [
      "The main libraries"
     ]
    },
    {
     "cell_type": "markdown",
     "metadata": {
      "slideshow": {
       "slide_type": "-"
      }
     },
     "source": [
      "- *numpy* - number crunching\n",
      "  = **Num**erical **Py**thon\n",
      "- *matplotlib* - plotting / visualization\n",
      "  = **Mat**rix **Plot**ting **Lib**rary\n",
      "- *pandas* - higher level library\n",
      "  = **Pan**el **Da**ta Analysi**s** (econometric term)\n",
      "  \n",
      "Also very useful:\n",
      "- *IPython* - powerful shell and web interface\n",
      "  = **I**nteractive **Python**"
     ]
    },
    {
     "cell_type": "heading",
     "level": 2,
     "metadata": {
      "slideshow": {
       "slide_type": "subslide"
      }
     },
     "source": [
      "Relationship between *pandas* and *numpy*"
     ]
    },
    {
     "cell_type": "markdown",
     "metadata": {
      "slideshow": {
       "slide_type": "-"
      }
     },
     "source": [
      "<img src=\"relationship-1.png\"><!-- Image converted from PDF using:\n",
      "pdftocairo -png relationship.pdf relationship\n",
      "-->\n",
      "\n",
      "... = statsmodels, pytables, sqlalchemy, python-dateutils, rpy; libs for xml/html, spreadsheets."
     ]
    },
    {
     "cell_type": "heading",
     "level": 2,
     "metadata": {
      "slideshow": {
       "slide_type": "subslide"
      }
     },
     "source": [
      "NumPy vs Pandas"
     ]
    },
    {
     "cell_type": "markdown",
     "metadata": {
      "slideshow": {
       "slide_type": "-"
      }
     },
     "source": [
      "When to use NumPy?\n",
      "- Number crunching (MATLAB)\n",
      "- `Array` simpler to do manipulate than `Pandas` index\n",
      "\n",
      "When to use Pandas?\n",
      "- Spreadsheet, macros\n",
      "- Complex analysis that SQL can't handle\n",
      "- Statistics and visualization (R)"
     ]
    },
    {
     "cell_type": "heading",
     "level": 2,
     "metadata": {
      "slideshow": {
       "slide_type": "subslide"
      }
     },
     "source": [
      "Fundamental data structures"
     ]
    },
    {
     "cell_type": "markdown",
     "metadata": {
      "slideshow": {
       "slide_type": "-"
      }
     },
     "source": [
      "1. `Series`\n",
      "  - Like a `list`\n",
      "\n",
      "2. `DataFrame`\n",
      "  - Like a table\n",
      "  - Consists of many `Series`\n",
      "  \n",
      "3. ~~`Panel`~~\n",
      "  - Consists of many `DataFrames`, but rarely used"
     ]
    },
    {
     "cell_type": "heading",
     "level": 1,
     "metadata": {
      "slideshow": {
       "slide_type": "slide"
      }
     },
     "source": [
      "Example"
     ]
    },
    {
     "cell_type": "markdown",
     "metadata": {},
     "source": [
      "- Video clips from [Wes McKinney's talk](https://vimeo.com/59324550)\n",
      "\n",
      "- My data exploration :) http://nbviewer.ipython.org/gist/omsai/e08260fde96280f3b547"
     ]
    },
    {
     "cell_type": "heading",
     "level": 2,
     "metadata": {
      "slideshow": {
       "slide_type": "subslide"
      }
     },
     "source": [
      "What did we just see?"
     ]
    },
    {
     "cell_type": "markdown",
     "metadata": {
      "slideshow": {
       "slide_type": "-"
      }
     },
     "source": [
      "1. Manipulation of date-time, strings and numbers (more on these later)\n",
      "2. IPython notebook\n",
      "3. Data structures: DataFrame"
     ]
    },
    {
     "cell_type": "heading",
     "level": 2,
     "metadata": {
      "slideshow": {
       "slide_type": "subslide"
      }
     },
     "source": [
      "IPython Notebook"
     ]
    },
    {
     "cell_type": "markdown",
     "metadata": {
      "slideshow": {
       "slide_type": "-"
      }
     },
     "source": [
      "- Much more than a web interface to IPython"
     ]
    },
    {
     "cell_type": "markdown",
     "metadata": {
      "slideshow": {
       "slide_type": "fragment"
      }
     },
     "source": [
      "  - Literate programming (see [Wikipedia](https://en.wikipedia.org/wiki/Literate_programming))"
     ]
    },
    {
     "cell_type": "markdown",
     "metadata": {
      "slideshow": {
       "slide_type": "fragment"
      }
     },
     "source": [
      "  - Exploratory analysis (as opposed to well-defined)"
     ]
    },
    {
     "cell_type": "markdown",
     "metadata": {
      "slideshow": {
       "slide_type": "fragment"
      }
     },
     "source": [
      "  - Saves calculation time\n",
      "    - Runs on clusters\n",
      "    - Full control over cells to evaluate"
     ]
    },
    {
     "cell_type": "markdown",
     "metadata": {
      "slideshow": {
       "slide_type": "fragment"
      }
     },
     "source": [
      "- What is Jupyter?\n",
      "  - Notebook part being decoupled for next major release"
     ]
    },
    {
     "cell_type": "heading",
     "level": 1,
     "metadata": {
      "slideshow": {
       "slide_type": "slide"
      }
     },
     "source": [
      "Best practices"
     ]
    },
    {
     "cell_type": "heading",
     "level": 2,
     "metadata": {
      "slideshow": {
       "slide_type": "subslide"
      }
     },
     "source": [
      "Why use NumPy at all?"
     ]
    },
    {
     "cell_type": "markdown",
     "metadata": {
      "slideshow": {
       "slide_type": "-"
      }
     },
     "source": [
      "Python wasn't intended for scientific data.  Division does not work as expected:"
     ]
    },
    {
     "cell_type": "code",
     "collapsed": false,
     "input": [
      "1/3"
     ],
     "language": "python",
     "metadata": {
      "slideshow": {
       "slide_type": "-"
      }
     },
     "outputs": [
      {
       "metadata": {},
       "output_type": "pyout",
       "prompt_number": 1,
       "text": [
        "0"
       ]
      }
     ],
     "prompt_number": 1
    },
    {
     "cell_type": "code",
     "collapsed": false,
     "input": [
      "1/3. # really, just shorthand for 1/3.0"
     ],
     "language": "python",
     "metadata": {
      "slideshow": {
       "slide_type": "fragment"
      }
     },
     "outputs": [
      {
       "metadata": {},
       "output_type": "pyout",
       "prompt_number": 2,
       "text": [
        "0.3333333333333333"
       ]
      }
     ],
     "prompt_number": 2
    },
    {
     "cell_type": "markdown",
     "metadata": {
      "slideshow": {
       "slide_type": "skip"
      }
     },
     "source": [
      "The rounding to zero is due to integer division.  When reading code one will often come across the shorthand \".\" to coerce one of the numbers into a floating point value to upcase the result to the fractional value one would normally expect."
     ]
    },
    {
     "cell_type": "code",
     "collapsed": false,
     "input": [
      "type(3)"
     ],
     "language": "python",
     "metadata": {
      "slideshow": {
       "slide_type": "fragment"
      }
     },
     "outputs": [
      {
       "metadata": {},
       "output_type": "pyout",
       "prompt_number": 3,
       "text": [
        "int"
       ]
      }
     ],
     "prompt_number": 3
    },
    {
     "cell_type": "code",
     "collapsed": false,
     "input": [
      "type(3.)"
     ],
     "language": "python",
     "metadata": {
      "slideshow": {
       "slide_type": "fragment"
      }
     },
     "outputs": [
      {
       "metadata": {},
       "output_type": "pyout",
       "prompt_number": 4,
       "text": [
        "float"
       ]
      }
     ],
     "prompt_number": 4
    },
    {
     "cell_type": "markdown",
     "metadata": {
      "slideshow": {
       "slide_type": "subslide"
      }
     },
     "source": [
      "Similarly, adding multiple values is problematic:"
     ]
    },
    {
     "cell_type": "code",
     "collapsed": false,
     "input": [
      "[1,2] + [3,4]"
     ],
     "language": "python",
     "metadata": {
      "slideshow": {
       "slide_type": "-"
      }
     },
     "outputs": [
      {
       "metadata": {},
       "output_type": "pyout",
       "prompt_number": 5,
       "text": [
        "[1, 2, 3, 4]"
       ]
      }
     ],
     "prompt_number": 5
    },
    {
     "cell_type": "markdown",
     "metadata": {
      "slideshow": {
       "slide_type": "fragment"
      }
     },
     "source": [
      "The numbers in the list were appended instead of being added element-wise."
     ]
    },
    {
     "cell_type": "heading",
     "level": 2,
     "metadata": {
      "slideshow": {
       "slide_type": "subslide"
      }
     },
     "source": [
      "The NumPy library adds numerical capability"
     ]
    },
    {
     "cell_type": "markdown",
     "metadata": {
      "slideshow": {
       "slide_type": "-"
      }
     },
     "source": [
      "Let's repeat the above addition of number sets using NumPy Arrays."
     ]
    },
    {
     "cell_type": "code",
     "collapsed": false,
     "input": [
      "import numpy as np\n",
      "np.array([1,2]) + np.array([3,4])"
     ],
     "language": "python",
     "metadata": {
      "slideshow": {
       "slide_type": "fragment"
      }
     },
     "outputs": [
      {
       "metadata": {},
       "output_type": "pyout",
       "prompt_number": 6,
       "text": [
        "array([4, 6])"
       ]
      }
     ],
     "prompt_number": 6
    },
    {
     "cell_type": "heading",
     "level": 2,
     "metadata": {
      "slideshow": {
       "slide_type": "subslide"
      }
     },
     "source": [
      "Vectorization"
     ]
    },
    {
     "cell_type": "markdown",
     "metadata": {
      "slideshow": {
       "slide_type": "-"
      }
     },
     "source": [
      "Technique of using vector operations instead of element-by-element loop-based operations"
     ]
    },
    {
     "cell_type": "markdown",
     "metadata": {
      "slideshow": {
       "slide_type": "skip"
      }
     },
     "source": [
      "(Definition and examples based on GNU/Octave info pages)."
     ]
    },
    {
     "cell_type": "markdown",
     "metadata": {
      "slideshow": {
       "slide_type": "fragment"
      }
     },
     "source": [
      "Short explanation:\n",
      "- For loops are bad.  Put money in the swear jar\n",
      "- Don't reinvent the wheel!  Use the API"
     ]
    },
    {
     "cell_type": "markdown",
     "metadata": {
      "slideshow": {
       "slide_type": "fragment"
      }
     },
     "source": [
      "Long explanation:\n",
      "\n",
      "- More succinct\n",
      "- Optimization in Python C implementation, or external numerical libraries used to build numpy\n",
      "- Can also optimize in software, e.g. `map()` or `np.vectorize()`\n",
      "- Vectorized code is 10x to 100x faster in most cases"
     ]
    },
    {
     "cell_type": "heading",
     "level": 3,
     "metadata": {
      "slideshow": {
       "slide_type": "subslide"
      }
     },
     "source": [
      "Vectorization Example 1: Adding arrays"
     ]
    },
    {
     "cell_type": "code",
     "collapsed": false,
     "input": [
      "a = np.array([[1, 2, 3], [4, 5, 6]])\n",
      "b = np.array([[0, 1, 0], [0, 1, 0]])\n",
      "m, n = a.shape\n",
      "c = np.zeros([m, n])\n",
      "\n",
      "for i in range(m):\n",
      "    for j in range(n):\n",
      "         c[i,j] = a[i,j] + b[i,j]\n",
      "c"
     ],
     "language": "python",
     "metadata": {
      "slideshow": {
       "slide_type": "-"
      }
     },
     "outputs": [
      {
       "metadata": {},
       "output_type": "pyout",
       "prompt_number": 7,
       "text": [
        "array([[ 1.,  3.,  3.],\n",
        "       [ 4.,  6.,  6.]])"
       ]
      }
     ],
     "prompt_number": 7
    },
    {
     "cell_type": "code",
     "collapsed": false,
     "input": [
      "a + b"
     ],
     "language": "python",
     "metadata": {
      "slideshow": {
       "slide_type": "fragment"
      }
     },
     "outputs": [
      {
       "metadata": {},
       "output_type": "pyout",
       "prompt_number": 8,
       "text": [
        "array([[1, 3, 3],\n",
        "       [4, 6, 6]])"
       ]
      }
     ],
     "prompt_number": 8
    },
    {
     "cell_type": "heading",
     "level": 3,
     "metadata": {
      "slideshow": {
       "slide_type": "subslide"
      }
     },
     "source": [
      "Vectorization Example 2: Subtract neighboring numbers"
     ]
    },
    {
     "cell_type": "code",
     "collapsed": false,
     "input": [
      "a = np.array([4, 5, 6, 7])\n",
      "n = len(a)\n",
      "b = np.zeros(n-1)\n",
      "\n",
      "for i in range(n - 1):\n",
      "    b[i] = a[i+1] - a[i]\n",
      "b"
     ],
     "language": "python",
     "metadata": {
      "slideshow": {
       "slide_type": "-"
      }
     },
     "outputs": [
      {
       "metadata": {},
       "output_type": "pyout",
       "prompt_number": 9,
       "text": [
        "array([ 1.,  1.,  1.])"
       ]
      }
     ],
     "prompt_number": 9
    },
    {
     "cell_type": "code",
     "collapsed": false,
     "input": [
      "b = a[1:n] - a[0:n-1]\n",
      "b"
     ],
     "language": "python",
     "metadata": {
      "slideshow": {
       "slide_type": "fragment"
      }
     },
     "outputs": [
      {
       "metadata": {},
       "output_type": "pyout",
       "prompt_number": 10,
       "text": [
        "array([1, 1, 1])"
       ]
      }
     ],
     "prompt_number": 10
    },
    {
     "cell_type": "heading",
     "level": 3,
     "metadata": {
      "slideshow": {
       "slide_type": "subslide"
      }
     },
     "source": [
      "Vectorization Example 3: Conditional subtraction"
     ]
    },
    {
     "cell_type": "code",
     "collapsed": false,
     "input": [
      "a = np.array([4, 5, 6, 7])\n",
      "for i in range(n):\n",
      "    if (a[i] > 5):\n",
      "        a[i] -= 20\n",
      "a"
     ],
     "language": "python",
     "metadata": {
      "slideshow": {
       "slide_type": "-"
      }
     },
     "outputs": [
      {
       "metadata": {},
       "output_type": "pyout",
       "prompt_number": 11,
       "text": [
        "array([  4,   5, -14, -13])"
       ]
      }
     ],
     "prompt_number": 11
    },
    {
     "cell_type": "code",
     "collapsed": false,
     "input": [
      "a = np.array([4, 5, 6, 7])"
     ],
     "language": "python",
     "metadata": {
      "slideshow": {
       "slide_type": "skip"
      }
     },
     "outputs": [],
     "prompt_number": 12
    },
    {
     "cell_type": "code",
     "collapsed": false,
     "input": [
      "a[a > 5] -= 20\n",
      "a"
     ],
     "language": "python",
     "metadata": {
      "slideshow": {
       "slide_type": "fragment"
      }
     },
     "outputs": [
      {
       "metadata": {},
       "output_type": "pyout",
       "prompt_number": 13,
       "text": [
        "array([  4,   5, -14, -13])"
       ]
      }
     ],
     "prompt_number": 13
    },
    {
     "cell_type": "code",
     "collapsed": false,
     "input": [
      "a = np.array([4, 5, 6, 7])"
     ],
     "language": "python",
     "metadata": {
      "slideshow": {
       "slide_type": "skip"
      }
     },
     "outputs": [],
     "prompt_number": 14
    },
    {
     "cell_type": "code",
     "collapsed": false,
     "input": [
      "a > 5"
     ],
     "language": "python",
     "metadata": {
      "slideshow": {
       "slide_type": "fragment"
      }
     },
     "outputs": [
      {
       "metadata": {},
       "output_type": "pyout",
       "prompt_number": 15,
       "text": [
        "array([False, False,  True,  True], dtype=bool)"
       ]
      }
     ],
     "prompt_number": 15
    },
    {
     "cell_type": "heading",
     "level": 2,
     "metadata": {
      "slideshow": {
       "slide_type": "subslide"
      }
     },
     "source": [
      "When to use NumPy instead of Pandas?"
     ]
    },
    {
     "cell_type": "markdown",
     "metadata": {
      "slideshow": {
       "slide_type": "-"
      }
     },
     "source": [
      "*numpy*\n",
      "\n",
      "Advantages:\n",
      "- Go to language for fast, modular numeric processing\n",
      "\n",
      "Disadvantages:\n",
      "- More than 3 dimensions of `Array` are not inuitive to non-scientists\n",
      "- `Structured Arrays` not as flexible as *pandas* `DataFrames`"
     ]
    },
    {
     "cell_type": "heading",
     "level": 2,
     "metadata": {
      "slideshow": {
       "slide_type": "subslide"
      }
     },
     "source": [
      "When to use Pandas instead of NumPy?"
     ]
    },
    {
     "cell_type": "markdown",
     "metadata": {
      "slideshow": {
       "slide_type": "-"
      }
     },
     "source": [
      "*pandas*\n",
      "\n",
      "Advantages:\n",
      "- Much better for labeling data, datatime, string manipulation\n",
      "- More than 2 dimensions possible with multi-indexing\n",
      "  - Don't go crazy with multi-indexing!\n",
      "\n",
      "Disadvantages:\n",
      "- One has to think like R (pandas) instead of MATLAB (numpy)\n",
      "  - Even for basic operations like appending data structures\n",
      "  - Because indexing plays an **active** role"
     ]
    },
    {
     "cell_type": "heading",
     "level": 1,
     "metadata": {
      "slideshow": {
       "slide_type": "slide"
      }
     },
     "source": [
      "Further Reading"
     ]
    },
    {
     "cell_type": "markdown",
     "metadata": {
      "slideshow": {
       "slide_type": "subslide"
      }
     },
     "source": [
      "NumPy\n",
      "\n",
      "- Quickly read through the tutorial (2 hours): http://wiki.scipy.org/Tentative_NumPy_Tutorial\n",
      "  - Ignore `Matrix` class!\n",
      "- (Optional) Enthought videos: https://training.enthought.com/\n",
      "\n",
      "Pandas\n",
      "\n",
      "- The official Pandas docs: http://pandas.pydata.org/pandas-docs/stable/\n",
      "  - Start with \"10 Minutes to pandas\"\n",
      "- (Optional) 3 part Pandas demo by PyData speaker: http://www.gregreda.com/2013/10/26/intro-to-pandas-data-structures/\n",
      "- (Optional) Light overview: https://manishamde.github.io/blog/2013/03/07/pandas-and-python-top-10/"
     ]
    },
    {
     "cell_type": "markdown",
     "metadata": {
      "slideshow": {
       "slide_type": "subslide"
      }
     },
     "source": [
      "IPython notebook\n",
      "\n",
      "- **Very detailed** IPython Cookbook by Cyrille Rossant: https://ipython-books.github.io/cookbook/\n",
      "- Official documentation on Notebooks is a little light :/\n",
      "\n",
      "Matplotlib:\n",
      "\n",
      "- The gallery (includes source code): http://matplotlib.org/gallery.html"
     ]
    },
    {
     "cell_type": "heading",
     "level": 2,
     "metadata": {
      "slideshow": {
       "slide_type": "subslide"
      }
     },
     "source": [
      "Installation"
     ]
    },
    {
     "cell_type": "markdown",
     "metadata": {
      "slideshow": {
       "slide_type": "-"
      }
     },
     "source": [
      "- On Windows and Mac OSX, install the [Anaconda Python distribution](https://store.continuum.io/cshop/anaconda/) version 2.7; this is necessary since compiling *numpy* (especially for 64-bit) is complex.\n",
      "\n",
      "- On GNU/Linux, pandas should be available through your package manager."
     ]
    },
    {
     "cell_type": "heading",
     "level": 2,
     "metadata": {
      "slideshow": {
       "slide_type": "-"
      }
     },
     "source": [
      "Upcoming Events"
     ]
    },
    {
     "cell_type": "markdown",
     "metadata": {
      "slideshow": {
       "slide_type": "-"
      }
     },
     "source": [
      "http://www.opendatascience.com/"
     ]
    }
   ],
   "metadata": {}
  }
 ]
}